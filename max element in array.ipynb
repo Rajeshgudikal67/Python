{
 "cells": [
  {
   "cell_type": "code",
   "execution_count": null,
   "id": "f1d4019c-c4a1-434b-8656-088dded01392",
   "metadata": {},
   "outputs": [],
   "source": [
    "a=list(input(\"Enter element :\"))\n",
    "print(\"the \")"
   ]
  }
 ],
 "metadata": {
  "kernelspec": {
   "display_name": "Python 3 (ipykernel)",
   "language": "python",
   "name": "python3"
  },
  "language_info": {
   "codemirror_mode": {
    "name": "ipython",
    "version": 3
   },
   "file_extension": ".py",
   "mimetype": "text/x-python",
   "name": "python",
   "nbconvert_exporter": "python",
   "pygments_lexer": "ipython3",
   "version": "3.12.4"
  }
 },
 "nbformat": 4,
 "nbformat_minor": 5
}
